{
 "cells": [
  {
   "cell_type": "code",
   "execution_count": 1,
   "metadata": {
    "collapsed": false
   },
   "outputs": [
    {
     "name": "stdout",
     "output_type": "stream",
     "text": [
      "Should Toggle\n",
      "    tff: I=True, O=False\n",
      "    tff: I=True, O=True\n",
      "    tff: I=True, O=False\n",
      "    tff: I=True, O=True\n",
      "    tff: I=True, O=False\n",
      "Should stay True\n",
      "    tff: I=False, O=True\n",
      "    tff: I=False, O=True\n",
      "    tff: I=False, O=True\n"
     ]
    }
   ],
   "source": [
    "import silica\n",
    "\n",
    "\n",
    "@silica.coroutine\n",
    "def TFF(init=False):\n",
    "    value = init\n",
    "    O = value\n",
    "    while True:\n",
    "        I = yield O\n",
    "        O = value\n",
    "        value = I ^ O\n",
    "\n",
    "\n",
    "if __name__ == \"__main__\":\n",
    "    tff = TFF()\n",
    "    print(\"Should Toggle\")\n",
    "    # Should toggle\n",
    "    for i in range(5):\n",
    "        tff.send(True)\n",
    "        print(f\"    tff: I={tff.I}, O={tff.O}\")\n",
    "        assert tff.O == i % 2\n",
    "    print(\"Should stay True\")\n",
    "    # Should stay high\n",
    "    for i in range(3):\n",
    "        tff.send(False)\n",
    "        print(f\"    tff: I={tff.I}, O={tff.O}\")\n",
    "        assert tff.O == True"
   ]
  }
 ],
 "metadata": {},
 "nbformat": 4,
 "nbformat_minor": 2
}
