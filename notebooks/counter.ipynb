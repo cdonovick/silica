{
 "cells": [
  {
   "cell_type": "code",
   "execution_count": 1,
   "metadata": {
    "collapsed": false
   },
   "outputs": [
    {
     "name": "stdout",
     "output_type": "stream",
     "text": [
      "O=0, COUT=0\n",
      "O=1, COUT=0\n",
      "O=2, COUT=0\n",
      "O=3, COUT=0\n",
      "O=4, COUT=0\n",
      "O=5, COUT=0\n",
      "O=6, COUT=0\n",
      "O=7, COUT=0\n",
      "O=8, COUT=0\n",
      "O=9, COUT=0\n",
      "O=10, COUT=0\n",
      "O=11, COUT=0\n",
      "O=12, COUT=0\n",
      "O=13, COUT=0\n",
      "O=14, COUT=0\n",
      "O=15, COUT=1\n",
      "O=0, COUT=0\n",
      "O=1, COUT=0\n",
      "O=2, COUT=0\n",
      "O=3, COUT=0\n",
      "O=4, COUT=0\n",
      "O=5, COUT=0\n",
      "O=6, COUT=0\n",
      "O=7, COUT=0\n",
      "O=8, COUT=0\n",
      "O=9, COUT=0\n",
      "O=10, COUT=0\n",
      "O=11, COUT=0\n",
      "O=12, COUT=0\n",
      "O=13, COUT=0\n",
      "O=14, COUT=0\n",
      "O=15, COUT=1\n"
     ]
    }
   ],
   "source": [
    "import silica\n",
    "from magma.bit_vector import BitVector\n",
    "\n",
    "\n",
    "def add(a, b, cout=False):\n",
    "    assert isinstance(a, BitVector) and isinstance(b, BitVector)\n",
    "    assert len(a) == len(b)\n",
    "    c = a + b\n",
    "    if cout:\n",
    "        return c, (BitVector(a, len(a) + 1) + BitVector(b, len(b) + 1))[-1]\n",
    "    else:\n",
    "        return c\n",
    "\n",
    "\n",
    "@silica.coroutine\n",
    "def Counter(width, init=0, incr=1):\n",
    "    value = BitVector(init, width)\n",
    "    while True:\n",
    "        O = value\n",
    "        value, cout = add(O, BitVector(incr, width), cout=True)\n",
    "        yield O, cout\n",
    "\n",
    "if __name__ == \"__main__\":\n",
    "    counter = Counter(4)\n",
    "    for i in range((1 << 4) * 2):\n",
    "        print(f\"O={counter.O}, COUT={counter.cout}\")\n",
    "        next(counter)"
   ]
  }
 ],
 "metadata": {},
 "nbformat": 4,
 "nbformat_minor": 2
}
