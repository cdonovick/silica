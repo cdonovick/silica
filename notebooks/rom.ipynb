{
 "cells": [
  {
   "cell_type": "code",
   "execution_count": 1,
   "metadata": {
    "collapsed": false
   },
   "outputs": [
    {
     "name": "stdout",
     "output_type": "stream",
     "text": [
      "de\n",
      "ad\n",
      "be\n",
      "ef\n",
      "de\n",
      "ad\n",
      "be\n",
      "ef\n"
     ]
    }
   ],
   "source": [
    "from magma.bitutils import int2seq, seq2int\n",
    "import silica\n",
    "from counter import Counter\n",
    "\n",
    "@silica.coroutine\n",
    "def ROM(init):\n",
    "    memory = init\n",
    "    O = memory[0]\n",
    "    while True:\n",
    "        addr = yield O\n",
    "        O = memory[addr.as_int()]\n",
    "\n",
    "\n",
    "if __name__ == \"__main__\":\n",
    "    counter = Counter(2)  # 2-bit counter\n",
    "    rom = ROM([int2seq(x) for x in [0xDE, 0xAD, 0xBE, 0xEF]])\n",
    "    for i in range(8):\n",
    "        print(f\"{seq2int(rom.send(counter.O)):x}\")\n",
    "        next(counter)"
   ]
  }
 ],
 "metadata": {},
 "nbformat": 4,
 "nbformat_minor": 2
}
