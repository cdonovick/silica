{
 "cells": [
  {
   "cell_type": "code",
   "execution_count": 1,
   "metadata": {},
   "outputs": [
    {
     "name": "stdout",
     "output_type": "stream",
     "text": [
      "import mantle lattice ice40\n",
      "import mantle lattice mantle40\n",
      "from magma import *\n",
      "import os\n",
      "os.environ[\"MANTLE\"] = os.getenv(\"MANTLE\", \"coreir\")\n",
      "from mantle import *\n",
      "import mantle.common.operator\n",
      "\n",
      "PISO = DefineCircuit(\"PISO\", \"O\", Out(Bit), \"PI\", In(Bits(10)), \"SI\", In(Bit), \"LOAD\", In(Bit), *ClockInterface(has_ce=False))\n",
      "CE = VCC\n",
      "Buffer = DefineCircuit(\"__silica_BufferPISO\", \"I\", In(Bits(2)), \"O\", Out(Bits(2)))\n",
      "wire(Buffer.I, Buffer.O)\n",
      "EndDefine()\n",
      "__silica_path_state = Buffer()\n",
      "PI = PISO.PI\n",
      "SI = PISO.SI\n",
      "LOAD = PISO.LOAD\n",
      "values = Register(10, has_ce=True)\n",
      "values_CE = [CE]\n",
      "wireclock(PISO, values)\n",
      "values_next = Or(2, 10)\n",
      "wire(values_next.O, values.I)\n",
      "values_next_0 = And(2, 10)\n",
      "wire(values_next_0.O, values_next.I0)\n",
      "wire(values_next_0.I0[0], __silica_path_state.O[0])\n",
      "wire(values_next_0.I0[1], __silica_path_state.O[0])\n",
      "wire(values_next_0.I0[2], __silica_path_state.O[0])\n",
      "wire(values_next_0.I0[3], __silica_path_state.O[0])\n",
      "wire(values_next_0.I0[4], __silica_path_state.O[0])\n",
      "wire(values_next_0.I0[5], __silica_path_state.O[0])\n",
      "wire(values_next_0.I0[6], __silica_path_state.O[0])\n",
      "wire(values_next_0.I0[7], __silica_path_state.O[0])\n",
      "wire(values_next_0.I0[8], __silica_path_state.O[0])\n",
      "wire(values_next_0.I0[9], __silica_path_state.O[0])\n",
      "values_next_1 = And(2, 10)\n",
      "wire(values_next_1.O, values_next.I1)\n",
      "wire(values_next_1.I0[0], __silica_path_state.O[1])\n",
      "wire(values_next_1.I0[1], __silica_path_state.O[1])\n",
      "wire(values_next_1.I0[2], __silica_path_state.O[1])\n",
      "wire(values_next_1.I0[3], __silica_path_state.O[1])\n",
      "wire(values_next_1.I0[4], __silica_path_state.O[1])\n",
      "wire(values_next_1.I0[5], __silica_path_state.O[1])\n",
      "wire(values_next_1.I0[6], __silica_path_state.O[1])\n",
      "wire(values_next_1.I0[7], __silica_path_state.O[1])\n",
      "wire(values_next_1.I0[8], __silica_path_state.O[1])\n",
      "wire(values_next_1.I0[9], __silica_path_state.O[1])\n",
      "O = Or(2, None)\n",
      "wire(O.O, PISO.O)\n",
      "O_0 = And(2, None)\n",
      "wire(O_0.O, O.I0)\n",
      "wire(O_0.I0, __silica_path_state.O[0])\n",
      "O_1 = And(2, None)\n",
      "wire(O_1.O, O.I1)\n",
      "wire(O_1.I0, __silica_path_state.O[1])\n",
      "values_next_0_tmp = [values.O[__silica_i] for __silica_i in range(10)]\n",
      "O_0_tmp = values.O[negate(1)]\n",
      "__silica_cond_0 = LOAD\n",
      "values_next_0_tmp = PI\n",
      "for __silica_i in range(10):\n",
      "    wire(values_next_0_tmp[__silica_i], values_next_0.I1[__silica_i])\n",
      "wire(O_0_tmp, O_0.I1)\n",
      "wire(__silica_path_state.I[0], __silica_cond_0)\n",
      "values_next_1_tmp = [values.O[__silica_i] for __silica_i in range(10)]\n",
      "O_1_tmp = values.O[negate(1)]\n",
      "__silica_cond_1 = not_(LOAD)\n",
      "values_next_1_tmp[9] = values_next_1_tmp[8]\n",
      "values_next_1_tmp[8] = values_next_1_tmp[7]\n",
      "values_next_1_tmp[7] = values_next_1_tmp[6]\n",
      "values_next_1_tmp[6] = values_next_1_tmp[5]\n",
      "values_next_1_tmp[5] = values_next_1_tmp[4]\n",
      "values_next_1_tmp[4] = values_next_1_tmp[3]\n",
      "values_next_1_tmp[3] = values_next_1_tmp[2]\n",
      "values_next_1_tmp[2] = values_next_1_tmp[1]\n",
      "values_next_1_tmp[1] = values_next_1_tmp[0]\n",
      "values_next_1_tmp[0] = SI\n",
      "for __silica_i in range(10):\n",
      "    wire(values_next_1_tmp[__silica_i], values_next_1.I1[__silica_i])\n",
      "wire(O_1_tmp, O_1.I1)\n",
      "wire(__silica_path_state.I[1], __silica_cond_1)\n",
      "if len(values_CE) == 1:\n",
      "    wire(values_CE[0], values.CE)\n",
      "else:\n",
      "    wire(and_(*values_CE), values.CE)\n",
      "EndDefine()\n"
     ]
    }
   ],
   "source": [
    "import os\n",
    "os.environ[\"MANTLE\"] = \"lattice\"\n",
    "import silica as si\n",
    "import magma as m\n",
    "from silica import bits, add\n",
    "from magma.bit_vector import BitVector\n",
    "from magma.testing.coroutine import check\n",
    "\n",
    "def PISO(n):\n",
    "    @si.coroutine(inputs={\"PI\": si.Bits(n), \"SI\": si.Bit, \"LOAD\": si.Bit})\n",
    "    def PISO():\n",
    "        values = bits(0, n)\n",
    "        O = values[-1]\n",
    "        while True:\n",
    "            PI, SI, LOAD = yield O\n",
    "            O = values[-1]\n",
    "            if LOAD:\n",
    "                values = PI\n",
    "            else:\n",
    "                # values = [SI] + values[:-1]\n",
    "                for i in range(n - 1, 0, -1):\n",
    "                    values[i] = values[i - 1]\n",
    "                values[0] = SI\n",
    "    return PISO()\n",
    "        \n",
    "PISO10 = si.compile(PISO(10), file_name=\"build/silica_piso.py\")\n",
    "with open(\"build/silica_piso.py\", \"r\") as magma_file:\n",
    "    print(magma_file.read())"
   ]
  },
  {
   "cell_type": "code",
   "execution_count": 2,
   "metadata": {},
   "outputs": [
    {
     "name": "stdout",
     "output_type": "stream",
     "text": [
      "In Run Generators\n",
      "\n",
      "Modified?: Yes\n",
      "2.27. Printing statistics.\n",
      "\n",
      "=== PISO ===\n",
      "\n",
      "   Number of wires:                309\n",
      "   Number of wire bits:            538\n",
      "   Number of public wires:         309\n",
      "   Number of public wire bits:     538\n",
      "   Number of memories:               0\n",
      "   Number of memory bits:            0\n",
      "   Number of processes:              0\n",
      "   Number of cells:                 20\n",
      "     SB_DFF                         10\n",
      "     SB_LUT4                        10\n",
      "\n",
      "\n",
      "Total number of logic levels: 1\n",
      "Total path delay: 2.23 ns (448.01 MHz)\n"
     ]
    }
   ],
   "source": [
    "!magma -o coreir -m coreir -t PISO build/silica_piso.py\n",
    "!coreir -i build/silica_piso.json -o build/silica_piso.v\n",
    "!yosys -p 'synth_ice40 -top PISO -blif build/silica_piso.blif' build/silica_piso.v | grep -A 14 \"2.27. Printing statistics.\"\n",
    "!arachne-pnr -q -d 1k -o build/silica_piso.txt build/silica_piso.blif\n",
    "!icetime -tmd hx1k build/silica_piso.txt | grep -B 2 \"Total path delay\""
   ]
  },
  {
   "cell_type": "code",
   "execution_count": 3,
   "metadata": {},
   "outputs": [
    {
     "name": "stdout",
     "output_type": "stream",
     "text": [
      "compiling Mux2\n",
      "compiling Register10\n",
      "compiling PISO10\n"
     ]
    }
   ],
   "source": [
    "import os\n",
    "os.environ[\"MANTLE\"] = \"lattice\"\n",
    "from magma import compile\n",
    "from mantle import DefinePISO\n",
    "compile(\"build/mantle_piso\", DefinePISO(10))"
   ]
  },
  {
   "cell_type": "code",
   "execution_count": 4,
   "metadata": {},
   "outputs": [
    {
     "name": "stdout",
     "output_type": "stream",
     "text": [
      "2.27. Printing statistics.\n",
      "\n",
      "=== PISO10 ===\n",
      "\n",
      "   Number of wires:                 69\n",
      "   Number of wire bits:            115\n",
      "   Number of public wires:          69\n",
      "   Number of public wire bits:     115\n",
      "   Number of memories:               0\n",
      "   Number of memory bits:            0\n",
      "   Number of processes:              0\n",
      "   Number of cells:                 20\n",
      "     SB_DFF                         10\n",
      "     SB_LUT4                        10\n",
      "\n",
      "\n",
      "Total number of logic levels: 1\n",
      "Total path delay: 2.17 ns (461.05 MHz)\n"
     ]
    }
   ],
   "source": [
    "!yosys -p 'synth_ice40 -top PISO10 -blif build/mantle_piso.blif' build/mantle_piso.v | grep -A 14 \"2.27. Printing statistics.\"\n",
    "!arachne-pnr -q -d 1k -o build/mantle_piso.txt build/mantle_piso.blif\n",
    "!icetime -tmd hx1k build/mantle_piso.txt | grep -B 2 \"Total path delay\""
   ]
  }
 ],
 "metadata": {
  "kernelspec": {
   "display_name": "Python 3",
   "language": "python",
   "name": "python3"
  },
  "language_info": {
   "codemirror_mode": {
    "name": "ipython",
    "version": 3
   },
   "file_extension": ".py",
   "mimetype": "text/x-python",
   "name": "python",
   "nbconvert_exporter": "python",
   "pygments_lexer": "ipython3",
   "version": "3.6.1"
  }
 },
 "nbformat": 4,
 "nbformat_minor": 2
}
