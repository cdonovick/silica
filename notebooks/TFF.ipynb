{
 "cells": [
  {
   "cell_type": "code",
   "execution_count": 1,
   "metadata": {},
   "outputs": [
    {
     "name": "stdout",
     "output_type": "stream",
     "text": [
      "import mantle lattice ice40\n",
      "import mantle lattice mantle40\n",
      "from magma import *\n",
      "import os\n",
      "os.environ[\"MANTLE\"] = os.getenv(\"MANTLE\", \"coreir\")\n",
      "from mantle import *\n",
      "import mantle.common.operator\n",
      "\n",
      "TFF = DefineCircuit(\"TFF\", \"O\", Out(Bit), \"I\", In(Bit), *ClockInterface(has_ce=False))\n",
      "\n",
      "I = TFF.I\n",
      "value = DFF(has_ce=False, name=\"value\", init=0)\n",
      "wireclock(TFF, value)\n",
      "value_next_0_tmp = value.O\n",
      "O_0_tmp = value.O\n",
      "value_next_0_tmp = xor(I, O_0_tmp)\n",
      "wire(value_next_0_tmp, value.I)\n",
      "wire(O_0_tmp, TFF.O)\n",
      "EndDefine()\n"
     ]
    }
   ],
   "source": [
    "import os\n",
    "os.environ[\"MANTLE\"] = \"lattice\"\n",
    "import silica as si\n",
    "import magma as m\n",
    "\n",
    "@si.coroutine(inputs={\"I\": si.Bit})\n",
    "def TFF(init=False):\n",
    "    value = init\n",
    "    O = value\n",
    "    while True:\n",
    "        I = yield O\n",
    "        O = value\n",
    "        value = I ^ O\n",
    "        \n",
    "TFF = si.compile(TFF(), file_name=\"build/silica_tff.py\")\n",
    "        \n",
    "with open(\"build/silica_tff.py\", \"r\") as magma_file:\n",
    "    print(magma_file.read())"
   ]
  },
  {
   "cell_type": "code",
   "execution_count": 2,
   "metadata": {
    "scrolled": true
   },
   "outputs": [
    {
     "name": "stdout",
     "output_type": "stream",
     "text": [
      "import mantle lattice ice40\n",
      "import mantle lattice mantle40\n",
      "compiling XOr2\n",
      "LUT_INIT (26214, 16) <class 'tuple'>\n",
      "compiling TFF\n",
      "2.27. Printing statistics.\n",
      "\n",
      "=== TFF ===\n",
      "\n",
      "   Number of wires:                  8\n",
      "   Number of wire bits:              9\n",
      "   Number of public wires:           8\n",
      "   Number of public wire bits:       9\n",
      "   Number of memories:               0\n",
      "   Number of memory bits:            0\n",
      "   Number of processes:              0\n",
      "   Number of cells:                  2\n",
      "     SB_DFF                          1\n",
      "     SB_LUT4                         1\n",
      "\n",
      "seed: 1\n",
      "device: 1k\n",
      "read_chipdb +/share/arachne-pnr/chipdb-1k.bin...\n",
      "  supported packages: cb121, cb132, cb81, cm121, cm36, cm49, cm81, qn84, swg16tr, tq144, vq100\n",
      "read_blif build/silica_tff.blif...\n",
      "prune...\n",
      "instantiate_io...\n",
      "pack...\n",
      "\n",
      "After packing:\n",
      "IOs          3 / 96\n",
      "GBs          0 / 8\n",
      "  GB_IOs     0 / 8\n",
      "LCs          1 / 1280\n",
      "  DFF        1\n",
      "  CARRY      0\n",
      "  CARRY, DFF 0\n",
      "  DFF PASS   0\n",
      "  CARRY PASS 0\n",
      "BRAMs        0 / 16\n",
      "WARMBOOTs    0 / 1\n",
      "PLLs         0 / 1\n",
      "\n",
      "place_constraints...\n",
      "promote_globals...\n",
      "  promoted 0 nets\n",
      "  0 globals\n",
      "realize_constants...\n",
      "place...\n",
      "  initial wire length = 7\n",
      "  at iteration #50: temp = 3.1432, wire length = 20\n",
      "  at iteration #100: temp = 0.00872897, wire length = 4\n",
      "  final wire length = 4\n",
      "\n",
      "After placement:\n",
      "PIOs       2 / 96\n",
      "PLBs       1 / 160\n",
      "BRAMs      0 / 16\n",
      "\n",
      "  place time 0.00s\n",
      "route...\n",
      "  pass 1, 0 shared.\n",
      "\n",
      "After routing:\n",
      "span_4     2 / 6944\n",
      "span_12    0 / 1440\n",
      "\n",
      "  route time 0.00s\n",
      "write_txt build/silica_tff.txt...\n",
      "\n",
      "Total number of logic levels: 1\n",
      "Total path delay: 1.61 ns (621.93 MHz)\n"
     ]
    }
   ],
   "source": [
    "!magma -o verilog -m lattice -t TFF build/silica_tff.py\n",
    "!yosys -p 'synth_ice40 -top TFF -blif build/silica_tff.blif' build/silica_tff.v | grep -A 14 \"2.27. Printing statistics.\"\n",
    "!arachne-pnr -d 1k -o build/silica_tff.txt build/silica_tff.blif\n",
    "!icetime -tmd hx1k build/silica_tff.txt | grep -B 2 \"Total path delay\""
   ]
  },
  {
   "cell_type": "code",
   "execution_count": 3,
   "metadata": {},
   "outputs": [
    {
     "name": "stdout",
     "output_type": "stream",
     "text": [
      "compiling XOr2\n",
      "LUT_INIT (26214, 16) <class 'tuple'>\n",
      "compiling TFF\n"
     ]
    }
   ],
   "source": [
    "from mantle import DFF\n",
    "\n",
    "TFF = m.DefineCircuit('TFF', 'I', m.In(m.Bit), 'O', m.Out(m.Bit), 'CLK', m.In(m.Bit))\n",
    "\n",
    "# create ff holding state first\n",
    "ff = DFF()\n",
    "\n",
    "# compute the next state\n",
    "ff( TFF.I ^ ff.O )\n",
    "\n",
    "m.wire(ff.O, TFF.O)\n",
    "m.wire(TFF.CLK, ff.CLK)\n",
    "\n",
    "m.EndDefine()\n",
    "\n",
    "m.compile(\"build/magma_tff\", TFF)"
   ]
  },
  {
   "cell_type": "code",
   "execution_count": 4,
   "metadata": {},
   "outputs": [
    {
     "name": "stdout",
     "output_type": "stream",
     "text": [
      "2.27. Printing statistics.\n",
      "\n",
      "=== TFF ===\n",
      "\n",
      "   Number of wires:                  8\n",
      "   Number of wire bits:              9\n",
      "   Number of public wires:           8\n",
      "   Number of public wire bits:       9\n",
      "   Number of memories:               0\n",
      "   Number of memory bits:            0\n",
      "   Number of processes:              0\n",
      "   Number of cells:                  2\n",
      "     SB_DFF                          1\n",
      "     SB_LUT4                         1\n",
      "\n",
      "seed: 1\n",
      "device: 1k\n",
      "read_chipdb +/share/arachne-pnr/chipdb-1k.bin...\n",
      "  supported packages: cb121, cb132, cb81, cm121, cm36, cm49, cm81, qn84, swg16tr, tq144, vq100\n",
      "read_blif build/magma_tff.blif...\n",
      "prune...\n",
      "instantiate_io...\n",
      "pack...\n",
      "\n",
      "After packing:\n",
      "IOs          3 / 96\n",
      "GBs          0 / 8\n",
      "  GB_IOs     0 / 8\n",
      "LCs          1 / 1280\n",
      "  DFF        1\n",
      "  CARRY      0\n",
      "  CARRY, DFF 0\n",
      "  DFF PASS   0\n",
      "  CARRY PASS 0\n",
      "BRAMs        0 / 16\n",
      "WARMBOOTs    0 / 1\n",
      "PLLs         0 / 1\n",
      "\n",
      "place_constraints...\n",
      "promote_globals...\n",
      "  promoted 0 nets\n",
      "  0 globals\n",
      "realize_constants...\n",
      "place...\n",
      "  initial wire length = 7\n",
      "  at iteration #50: temp = 3.1432, wire length = 20\n",
      "  at iteration #100: temp = 0.00872897, wire length = 4\n",
      "  final wire length = 4\n",
      "\n",
      "After placement:\n",
      "PIOs       2 / 96\n",
      "PLBs       1 / 160\n",
      "BRAMs      0 / 16\n",
      "\n",
      "  place time 0.00s\n",
      "route...\n",
      "  pass 1, 0 shared.\n",
      "\n",
      "After routing:\n",
      "span_4     2 / 6944\n",
      "span_12    0 / 1440\n",
      "\n",
      "  route time 0.00s\n",
      "write_txt build/magma_tff.txt...\n",
      "\n",
      "Total number of logic levels: 1\n",
      "Total path delay: 1.61 ns (621.93 MHz)\n"
     ]
    }
   ],
   "source": [
    "!yosys -p 'synth_ice40 -top TFF -blif build/magma_tff.blif' build/magma_tff.v | grep -A 14 \"2.27. Printing statistics.\"\n",
    "!arachne-pnr -d 1k -o build/magma_tff.txt build/magma_tff.blif\n",
    "!icetime -tmd hx1k build/magma_tff.txt | grep -B 2 \"Total path delay\""
   ]
  },
  {
   "cell_type": "code",
   "execution_count": null,
   "metadata": {
    "collapsed": true
   },
   "outputs": [],
   "source": []
  }
 ],
 "metadata": {
  "kernelspec": {
   "display_name": "Python 3",
   "language": "python",
   "name": "python3"
  },
  "language_info": {
   "codemirror_mode": {
    "name": "ipython",
    "version": 3
   },
   "file_extension": ".py",
   "mimetype": "text/x-python",
   "name": "python",
   "nbconvert_exporter": "python",
   "pygments_lexer": "ipython3",
   "version": "3.6.1"
  }
 },
 "nbformat": 4,
 "nbformat_minor": 2
}
