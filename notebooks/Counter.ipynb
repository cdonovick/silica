{
 "cells": [
  {
   "cell_type": "code",
   "execution_count": 1,
   "metadata": {},
   "outputs": [
    {
     "name": "stdout",
     "output_type": "stream",
     "text": [
      "import mantle lattice ice40\n",
      "import mantle lattice mantle40\n"
     ]
    }
   ],
   "source": [
    "import os\n",
    "os.environ[\"MANTLE\"] = \"lattice\"\n",
    "import silica as si\n",
    "import magma as m\n",
    "from silica import bits, add\n",
    "from magma.bit_vector import BitVector\n",
    "from magma.testing.coroutine import check\n",
    "\n",
    "\n",
    "@si.coroutine\n",
    "def Counter(width, init=0, incr=1):\n",
    "    value = bits(init, width)\n",
    "    O = value\n",
    "    cout = False\n",
    "    while True:\n",
    "        yield O, cout\n",
    "        O = value\n",
    "        value, cout = add(value, bits(incr, width), cout=True)\n",
    "        \n",
    "Counter4 = si.compile(Counter(4), file_name=\"build/silica_counter.py\")\n",
    "with open(\"build/silica_counter.py\", \"r\") as magma_file:\n",
    "    print(magma_file.read())"
   ]
  },
  {
   "cell_type": "code",
   "execution_count": 2,
   "metadata": {},
   "outputs": [
    {
     "ename": "NameError",
     "evalue": "name 'wire' is not defined",
     "output_type": "error",
     "traceback": [
      "\u001b[0;31m---------------------------------------------------------------------------\u001b[0m",
      "\u001b[0;31mNameError\u001b[0m                                 Traceback (most recent call last)",
      "\u001b[0;32m<ipython-input-2-4a1cf9b51fb9>\u001b[0m in \u001b[0;36m<module>\u001b[0;34m()\u001b[0m\n\u001b[1;32m      8\u001b[0m \u001b[0mcounter\u001b[0m \u001b[0;34m=\u001b[0m \u001b[0mCounter4\u001b[0m\u001b[0;34m(\u001b[0m\u001b[0;34m)\u001b[0m\u001b[0;34m\u001b[0m\u001b[0m\n\u001b[1;32m      9\u001b[0m \u001b[0mm\u001b[0m\u001b[0;34m.\u001b[0m\u001b[0mwire\u001b[0m\u001b[0;34m(\u001b[0m\u001b[0mcounter\u001b[0m\u001b[0;34m.\u001b[0m\u001b[0mO\u001b[0m\u001b[0;34m,\u001b[0m \u001b[0mmain\u001b[0m\u001b[0;34m.\u001b[0m\u001b[0mJ1\u001b[0m\u001b[0;34m[\u001b[0m\u001b[0;34m:\u001b[0m\u001b[0;36m4\u001b[0m\u001b[0;34m]\u001b[0m\u001b[0;34m)\u001b[0m\u001b[0;34m\u001b[0m\u001b[0m\n\u001b[0;32m---> 10\u001b[0;31m \u001b[0mwire\u001b[0m\u001b[0;34m(\u001b[0m\u001b[0mbits\u001b[0m\u001b[0;34m(\u001b[0m\u001b[0;36m0\u001b[0m\u001b[0;34m,\u001b[0m \u001b[0;36m4\u001b[0m\u001b[0;34m)\u001b[0m\u001b[0;34m,\u001b[0m \u001b[0mmain\u001b[0m\u001b[0;34m.\u001b[0m\u001b[0mJ1\u001b[0m\u001b[0;34m[\u001b[0m\u001b[0;36m4\u001b[0m\u001b[0;34m:\u001b[0m\u001b[0;34m]\u001b[0m\u001b[0;34m)\u001b[0m\u001b[0;34m\u001b[0m\u001b[0m\n\u001b[0m\u001b[1;32m     11\u001b[0m \u001b[0;34m\u001b[0m\u001b[0m\n\u001b[1;32m     12\u001b[0m \u001b[0mm\u001b[0m\u001b[0;34m.\u001b[0m\u001b[0mcompile\u001b[0m\u001b[0;34m(\u001b[0m\u001b[0;34m\"build/silica_counter\"\u001b[0m\u001b[0;34m,\u001b[0m \u001b[0mmain\u001b[0m\u001b[0;34m)\u001b[0m\u001b[0;34m\u001b[0m\u001b[0m\n",
      "\u001b[0;31mNameError\u001b[0m: name 'wire' is not defined"
     ]
    }
   ],
   "source": [
    "from loam.boards.icestick import IceStick\n",
    "\n",
    "icestick = IceStick()\n",
    "icestick.Clock.on()\n",
    "for i in range(len(icestick.J1)):\n",
    "    icestick.J1[i].output().on()\n",
    "main = icestick.main()\n",
    "counter = Counter4()\n",
    "m.wire(counter.O, main.J1[:4])\n",
    "wire(bits(0, 4), main.J1[4:])\n",
    "\n",
    "m.compile(\"build/silica_counter\", main)"
   ]
  },
  {
   "cell_type": "code",
   "execution_count": null,
   "metadata": {},
   "outputs": [],
   "source": [
    "%%bash\n",
    "yosys -p 'synth_ice40 -top main -blif build/silica_counter.blif' build/silica_counter.v\n",
    "arachne-pnr -d 1k -o build/silica_counter.txt -p build/silica_counter.pcf build/silica_counter.blif\n",
    "icepack build/silica_counter.txt build/silica_counter.bin\n",
    "icetime -tmd hx1k build/silica_counter.txt"
   ]
  },
  {
   "cell_type": "code",
   "execution_count": null,
   "metadata": {},
   "outputs": [],
   "source": [
    "from mantle import Counter\n",
    "icestick = IceStick()\n",
    "icestick.Clock.on()\n",
    "for i in range(len(icestick.J1)):\n",
    "    icestick.J1[i].output().on()\n",
    "main = icestick.main()\n",
    "counter = Counter(4)\n",
    "m.wire(counter.O, main.J1[:4])\n",
    "wire(bits(0, 4), main.J1[4:])\n",
    "\n",
    "m.compile(\"build/mantle_counter\", main)"
   ]
  },
  {
   "cell_type": "code",
   "execution_count": null,
   "metadata": {},
   "outputs": [],
   "source": [
    "%%bash\n",
    "yosys -p 'synth_ice40 -top main -blif build/mantle_counter.blif' build/mantle_counter.v\n",
    "arachne-pnr -d 1k -o build/mantle_counter.txt -p build/mantle_counter.pcf build/mantle_counter.blif\n",
    "icepack build/mantle_counter.txt build/mantle_counter.bin\n",
    "icetime -tmd hx1k build/mantle_counter.txt"
   ]
  },
  {
   "cell_type": "code",
   "execution_count": null,
   "metadata": {
    "collapsed": true
   },
   "outputs": [],
   "source": []
  }
 ],
 "metadata": {
  "kernelspec": {
   "display_name": "Python 3",
   "language": "python",
   "name": "python3"
  },
  "language_info": {
   "codemirror_mode": {
    "name": "ipython",
    "version": 3
   },
   "file_extension": ".py",
   "mimetype": "text/x-python",
   "name": "python",
   "nbconvert_exporter": "python",
   "pygments_lexer": "ipython3",
   "version": "3.6.1"
  }
 },
 "nbformat": 4,
 "nbformat_minor": 2
}
