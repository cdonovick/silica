{
 "cells": [
  {
   "cell_type": "code",
   "execution_count": 9,
   "metadata": {},
   "outputs": [
    {
     "name": "stdout",
     "output_type": "stream",
     "text": [
      "from magma import *\n",
      "import os\n",
      "os.environ[\"MANTLE\"] = os.getenv(\"MANTLE\", \"coreir\")\n",
      "from mantle import *\n",
      "import mantle.common.operator\n",
      "\n",
      "Counter = DefineCircuit(\"Counter\", \"O\", Out(Bits(4)), \"cout\", Out(Bit), *ClockInterface(has_ce=False))\n",
      "CE = VCC\n",
      "value = Register(4, has_ce=True)\n",
      "value_CE = [CE]\n",
      "wireclock(Counter, value)\n",
      "value_next_0_tmp = [value.O[__silica_i] for __silica_i in range(4)]\n",
      "O_0_tmp = value.O\n",
      "value_next_0_tmp, cout_0_tmp = add(value.O, bits(1, 4), cout=True)\n",
      "for __silica_i in range(4):\n",
      "    wire(value_next_0_tmp[__silica_i], value.I[__silica_i])\n",
      "wire(O_0_tmp, Counter.O)\n",
      "wire(cout_0_tmp, Counter.cout)\n",
      "if len(value_CE) == 1:\n",
      "    wire(value_CE[0], value.CE)\n",
      "else:\n",
      "    wire(and_(*value_CE), value.CE)\n",
      "EndDefine()\n"
     ]
    }
   ],
   "source": [
    "import silica as si\n",
    "import magma as m\n",
    "from silica import bits, add\n",
    "from magma.bit_vector import BitVector\n",
    "from magma.testing.coroutine import check\n",
    "\n",
    "\n",
    "@si.coroutine\n",
    "def Counter(width, init=0, incr=1):\n",
    "    value = bits(init, width)\n",
    "    O = value\n",
    "    cout = False\n",
    "    while True:\n",
    "        yield O, cout\n",
    "        O = value\n",
    "        value, cout = add(value, bits(incr, width), cout=True)\n",
    "        \n",
    "si.compile(Counter(4), file_name=\"build/silica_counter.py\")\n",
    "with open(\"build/silica_counter.py\", \"r\") as magma_file:\n",
    "    print(magma_file.read())"
   ]
  },
  {
   "cell_type": "code",
   "execution_count": 11,
   "metadata": {},
   "outputs": [
    {
     "name": "stdout",
     "output_type": "stream",
     "text": [
      "import mantle lattice ice40\n",
      "import mantle lattice mantle40\n",
      "compiling Register4CE\n",
      "compiling FullAdder\n",
      "compiling Add4Cout\n",
      "compiling Counter\n",
      "2.27. Printing statistics.\n",
      "\n",
      "=== Counter ===\n",
      "\n",
      "   Number of wires:                 47\n",
      "   Number of wire bits:             68\n",
      "   Number of public wires:          47\n",
      "   Number of public wire bits:      68\n",
      "   Number of memories:               0\n",
      "   Number of memory bits:            0\n",
      "   Number of processes:              0\n",
      "   Number of cells:                 11\n",
      "     SB_CARRY                        3\n",
      "     SB_DFFE                         4\n",
      "     SB_LUT4                         4\n",
      "\n",
      "Total number of logic levels: 5\n",
      "Total path delay: 3.23 ns (309.79 MHz)\n"
     ]
    }
   ],
   "source": [
    "!magma -o verilog -m lattice -t Counter build/silica_counter.py\n",
    "!yosys -p 'synth_ice40 -top Counter -blif build/silica_counter.blif' build/silica_counter.v | grep -A 14 \"2.27. Printing statistics.\"\n",
    "!arachne-pnr -q -d 1k -o build/silica_counter.txt build/silica_counter.blif\n",
    "!icetime -tmd hx1k build/silica_counter.txt | grep -B 2 \"Total path delay\""
   ]
  },
  {
   "cell_type": "code",
   "execution_count": 12,
   "metadata": {},
   "outputs": [
    {
     "name": "stdout",
     "output_type": "stream",
     "text": [
      "compiling FullAdder\n",
      "compiling Add4Cout\n",
      "compiling Register4\n",
      "compiling Counter4\n"
     ]
    }
   ],
   "source": [
    "import os\n",
    "os.environ[\"MANTLE\"] = \"lattice\"\n",
    "from magma import compile\n",
    "from mantle import DefineCounter\n",
    "compile(\"build/mantle_counter\", DefineCounter(4))"
   ]
  },
  {
   "cell_type": "code",
   "execution_count": 13,
   "metadata": {},
   "outputs": [
    {
     "name": "stdout",
     "output_type": "stream",
     "text": [
      "2.27. Printing statistics.\n",
      "\n",
      "=== Counter4 ===\n",
      "\n",
      "   Number of wires:                 47\n",
      "   Number of wire bits:             68\n",
      "   Number of public wires:          47\n",
      "   Number of public wire bits:      68\n",
      "   Number of memories:               0\n",
      "   Number of memory bits:            0\n",
      "   Number of processes:              0\n",
      "   Number of cells:                 11\n",
      "     SB_CARRY                        3\n",
      "     SB_DFF                          4\n",
      "     SB_LUT4                         4\n",
      "\n",
      "Total number of logic levels: 5\n",
      "Total path delay: 3.23 ns (309.79 MHz)\n"
     ]
    }
   ],
   "source": [
    "!yosys -p 'synth_ice40 -top Counter4 -blif build/mantle_counter.blif' build/mantle_counter.v | grep -A 14 \"2.27. Printing statistics.\"\n",
    "!arachne-pnr -q -d 1k -o build/mantle_counter.txt build/mantle_counter.blif\n",
    "!icetime -tmd hx1k build/mantle_counter.txt | grep -B 2 \"Total path delay\""
   ]
  },
  {
   "cell_type": "code",
   "execution_count": null,
   "metadata": {
    "collapsed": true
   },
   "outputs": [],
   "source": []
  }
 ],
 "metadata": {
  "kernelspec": {
   "display_name": "Python 3",
   "language": "python",
   "name": "python3"
  },
  "language_info": {
   "codemirror_mode": {
    "name": "ipython",
    "version": 3
   },
   "file_extension": ".py",
   "mimetype": "text/x-python",
   "name": "python",
   "nbconvert_exporter": "python",
   "pygments_lexer": "ipython3",
   "version": "3.6.1"
  }
 },
 "nbformat": 4,
 "nbformat_minor": 2
}
