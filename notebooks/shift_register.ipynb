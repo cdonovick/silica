{
 "cells": [
  {
   "cell_type": "code",
   "execution_count": 1,
   "metadata": {
    "collapsed": false
   },
   "outputs": [
    {
     "name": "stdout",
     "output_type": "stream",
     "text": [
      "Should be initialized to 0\n",
      "    siso: O=0\n",
      "Expected : 0 0 0 0 0 0 1 1 0 0 1 0 1 1 0\n",
      "Actual   : 0 0 0 0 0 0 1 1 0 0 1 0 1 1 0 "
     ]
    }
   ],
   "source": [
    "from magma.bitutils import int2seq\n",
    "import silica\n",
    "\n",
    "@silica.coroutine\n",
    "def SISO(width, init=0):\n",
    "    values = int2seq(init, width)\n",
    "    O = values[-1]\n",
    "    while True:\n",
    "        I = yield O\n",
    "        O = values[-1]\n",
    "        values[0] = I\n",
    "        for i in reversed(range(1, width)):\n",
    "            values[i] = values[i - 1]\n",
    "\n",
    "\n",
    "if __name__ == \"__main__\":\n",
    "    siso = SISO(8, 3)\n",
    "    print(f\"Should be initialized to {int2seq(3, 8)[-1]}\")\n",
    "    print(f\"    siso: O={siso.O}\")\n",
    "    assert siso.O == int2seq(3, 8)[-1]\n",
    "    inputs = [1, 0, 0, 1, 0, 1, 1, 0] * 2\n",
    "    expected = list(reversed(int2seq(3, 8)[1:])) + list(inputs[:-8])\n",
    "    print(\"Expected : {}\".format(\" \".join(str(i) for i in expected)))\n",
    "    print(\"Actual   : \", end=\"\")\n",
    "    for input_, expected_output in zip(inputs, expected):\n",
    "        siso.send(input_)\n",
    "        print(f\"{siso.O} \", end=\"\")\n",
    "        assert siso.O == expected_output"
   ]
  }
 ],
 "metadata": {},
 "nbformat": 4,
 "nbformat_minor": 2
}
