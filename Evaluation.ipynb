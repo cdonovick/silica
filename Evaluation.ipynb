{
 "cells": [
  {
   "cell_type": "code",
   "execution_count": 1,
   "metadata": {},
   "outputs": [],
   "source": [
    "%matplotlib inline\n",
    "\n",
    "import pandas as pd\n",
    "import matplotlib.pyplot as plt\n",
    "import matplotlib.patches as mpatches\n",
    "\n",
    "\n",
    "results = pd.read_json(\"results.json\")"
   ]
  },
  {
   "cell_type": "code",
   "execution_count": 2,
   "metadata": {},
   "outputs": [],
   "source": [
    "from IPython.display import display, Latex\n",
    "\n",
    "with open(\"results.tex\", \"w\") as f:\n",
    "    f.write(results.to_latex())"
   ]
  },
  {
   "cell_type": "code",
   "execution_count": 3,
   "metadata": {},
   "outputs": [
    {
     "data": {
      "image/png": "[encoded data removed]",
      "text/plain": [
       "<Figure size 1080x360 with 18 Axes>"
      ]
     },
     "metadata": {
      "needs_background": "light"
     },
     "output_type": "display_data"
    }
   ],
   "source": [
    "col_len = (len(results.columns) // 2)\n",
    "fig, axes = plt.subplots(nrows=2, ncols=col_len, sharey='row')\n",
    "fig.set_figwidth(15)\n",
    "fig.set_figheight(5)\n",
    "\n",
    "titles = [\"Counter\", \"Detect111\", \"FIFO\", \"LbMem\", \"PISO\", \"Serializer\", \"TAP\", \"TFF\", \"UART\"]\n",
    "\n",
    "for row in range(0, 2):\n",
    "    for i, columns in enumerate(zip(results.columns[::2], results.columns[1::2])):\n",
    "        title = titles[i]\n",
    "        curr = results[list(columns)].rename(index=str, columns={columns[0]: \"silica\", columns[1]: \"reference\"})\n",
    "        curr = curr.loc[(curr != 0).all(axis=1), :]\n",
    "        if row == 0:\n",
    "            curr = curr.filter(like=\"SB_\", axis=0)\n",
    "        elif row == 1:\n",
    "            curr = curr.filter(like=\"cells\", axis=0)\n",
    "        # elif row == 2:\n",
    "        #     curr = curr.filter(regex=\"(wires|wire bits|public wires|memories|memory bits|processes)\", axis=0)\n",
    "        if not curr.empty:\n",
    "            if row > 0:\n",
    "                title = False\n",
    "            curr.plot.barh(ax=axes[row, i], legend=False, title=title)\n",
    "\n",
    "# plt.legend(bbox_to_anchor=(2.15, 3.37), labelspacing=-2.5, frameon=False)      \n",
    "plt.legend(bbox_to_anchor=(2.15, 2.18), labelspacing=-2.5, frameon=False)      \n",
    "\n",
    "plt.savefig(\"synthesis.pdf\")\n",
    "plt.show()"
   ]
  },
  {
   "cell_type": "code",
   "execution_count": 4,
   "metadata": {
    "scrolled": true
   },
   "outputs": [
    {
     "data": {
      "image/png": "[encoded data removed]",
      "text/plain": [
       "<Figure size 1080x360 with 9 Axes>"
      ]
     },
     "metadata": {
      "needs_background": "light"
     },
     "output_type": "display_data"
    }
   ],
   "source": [
    "fig1, axes1 = plt.subplots(nrows=1, ncols=col_len, sharey='row')\n",
    "fig1.set_figwidth(15)\n",
    "fig1.set_figheight(5)\n",
    "\n",
    "\n",
    "for i, columns in enumerate(zip(results.columns[::2], results.columns[1::2])):\n",
    "    title = titles[i]\n",
    "    curr = results[list(columns)].rename(index=str, columns={columns[0]: \"silica\", columns[1]: \"reference\"})\n",
    "    curr = curr.loc[(curr != 0).all(axis=1), :]\n",
    "    curr = curr.filter(regex=\"(LCs|PLBs)\", axis=0)\n",
    "    curr.plot.barh(ax=axes1[i], legend=False, title=title)\n",
    "plt.legend(bbox_to_anchor=(2.15, .975), labelspacing=-2.5, frameon=False)      \n",
    "            \n",
    "plt.savefig(\"utilization.pdf\")\n",
    "plt.show()"
   ]
  },
  {
   "cell_type": "code",
   "execution_count": null,
   "metadata": {},
   "outputs": [],
   "source": [
    "fig2, axes2 = plt.subplots(nrows=1, ncols=col_len, sharey='row')\n",
    "fig2.set_figwidth(15)\n",
    "fig2.set_figheight(2)\n",
    "\n",
    "\n",
    "for i, columns in enumerate(zip(results.columns[::2], results.columns[1::2])):\n",
    "    title = titles[i]\n",
    "    curr = results[list(columns)].rename(index=str, columns={columns[0]: \"silica\", columns[1]: \"reference\"})\n",
    "    curr = curr.loc[(curr != 0).all(axis=1), :]\n",
    "    curr = curr.filter(regex=\"(logic levels|path delay)\", axis=0)\n",
    "    curr.plot.barh(ax=axes2[i], legend=False, title=title)\n",
    "plt.legend(bbox_to_anchor=(2.15, .975), labelspacing=-2.5, frameon=False)      \n",
    "            \n",
    "plt.savefig(\"timing.pdf\")\n",
    "plt.show()"
   ]
  },
  {
   "cell_type": "code",
   "execution_count": null,
   "metadata": {},
   "outputs": [],
   "source": [
    "fig2, axes2 = plt.subplots(nrows=1, ncols=col_len, sharey='row')\n",
    "fig2.set_figwidth(15)\n",
    "fig2.set_figheight(2)\n",
    "\n",
    "\n",
    "for i, columns in enumerate(zip(results.columns[::2], results.columns[1::2])):\n",
    "    title = titles[i]\n",
    "    curr = results[list(columns)].rename(index=str, columns={columns[0]: \"silica\", columns[1]: \"reference\"})\n",
    "    curr = curr.loc[(curr != 0).all(axis=1), :]\n",
    "    curr = curr.filter(regex=\"(Max Clock Frequency)\", axis=0)\n",
    "    curr.plot.barh(ax=axes2[i], legend=False, title=title)\n",
    "plt.legend(bbox_to_anchor=(2.15, .975), labelspacing=-2.5, frameon=False)      \n",
    "            \n",
    "plt.savefig(\"timing.pdf\")\n",
    "plt.show()"
   ]
  },
  {
   "cell_type": "code",
   "execution_count": null,
   "metadata": {},
   "outputs": [],
   "source": []
  }
 ],
 "metadata": {
  "kernelspec": {
   "display_name": "Python 3",
   "language": "python",
   "name": "python3"
  },
  "language_info": {
   "codemirror_mode": {
    "name": "ipython",
    "version": 3
   },
   "file_extension": ".py",
   "mimetype": "text/x-python",
   "name": "python",
   "nbconvert_exporter": "python",
   "pygments_lexer": "ipython3",
   "version": "3.7.0"
  }
 },
 "nbformat": 4,
 "nbformat_minor": 2
}
